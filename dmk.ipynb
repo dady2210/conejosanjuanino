{
  "nbformat": 4,
  "nbformat_minor": 0,
  "metadata": {
    "colab": {
      "name": "dmk.ipynb",
      "provenance": [],
      "collapsed_sections": [],
      "toc_visible": true,
      "include_colab_link": true
    },
    "kernelspec": {
      "name": "python3",
      "display_name": "Python 3"
    },
    "accelerator": "GPU"
  },
  "cells": [
    {
      "cell_type": "markdown",
      "metadata": {
        "id": "view-in-github",
        "colab_type": "text"
      },
      "source": [
        "<a href=\"https://colab.research.google.com/github/dady2210/conejosanjuanino/blob/master/dmk.ipynb\" target=\"_parent\"><img src=\"https://colab.research.google.com/assets/colab-badge.svg\" alt=\"Open In Colab\"/></a>"
      ]
    },
    {
      "cell_type": "code",
      "metadata": {
        "id": "tTVkURopsAxH",
        "colab_type": "code",
        "cellView": "form",
        "colab": {
          "base_uri": "https://localhost:8080/",
          "height": 122
        },
        "outputId": "2999b6c0-d454-4a4b-fa21-49308753cfe9"
      },
      "source": [
        "#@markdown <h3>⬅ Montar GDrive\n",
        "from google.colab import drive\n",
        "drive.mount('/content/drive')"
      ],
      "execution_count": 1,
      "outputs": [
        {
          "output_type": "stream",
          "text": [
            "Go to this URL in a browser: https://accounts.google.com/o/oauth2/auth?client_id=947318989803-6bn6qk8qdgf4n4g3pfee6491hc0brc4i.apps.googleusercontent.com&redirect_uri=urn%3aietf%3awg%3aoauth%3a2.0%3aoob&scope=email%20https%3a%2f%2fwww.googleapis.com%2fauth%2fdocs.test%20https%3a%2f%2fwww.googleapis.com%2fauth%2fdrive%20https%3a%2f%2fwww.googleapis.com%2fauth%2fdrive.photos.readonly%20https%3a%2f%2fwww.googleapis.com%2fauth%2fpeopleapi.readonly&response_type=code\n",
            "\n",
            "Enter your authorization code:\n",
            "4/4AE7GyIJdVj-NMUEn4QOd8FRnbpRaod-ICIZEZiTenYnLmnYVJnh2CA\n",
            "Mounted at /content/drive\n"
          ],
          "name": "stdout"
        }
      ]
    },
    {
      "cell_type": "markdown",
      "metadata": {
        "id": "oy6NiZ-mhVFX",
        "colab_type": "text"
      },
      "source": [
        "# <img src='https://i.imgur.com/MoWBfZc.png' height=\"60\" alt=\"RcloneLab\"/>"
      ]
    },
    {
      "cell_type": "code",
      "metadata": {
        "id": "xunEYHutBEv_",
        "colab_type": "code",
        "cellView": "form",
        "colab": {}
      },
      "source": [
        "#@markdown <h3>⬅️ Instalar Requisitos</h3>\n",
        "import random, string, urllib.request, json, getpass, os, IPython, uuid\n",
        "import ipywidgets as widgets\n",
        " \n",
        "from IPython.display import HTML, clear_output\n",
        " \n",
        "loadingBtn = widgets.Button(description = \"Instalando\",\n",
        "                          disabled = True,\n",
        "                          button_style = 'warning', # 'success', 'info', 'warning', 'danger' or '' \n",
        "                          tooltip = \"Instalando\",\n",
        "                          icon = 'check')\n",
        "display(loadingBtn)\n",
        " \n",
        "if not os.path.exists(\"/opt/python3.7\"):\n",
        "  get_ipython().system_raw(\"rm -rf /content/sample_data/ && sudo apt update && sudo apt install software-properties-common\")\n",
        "  get_ipython().system_raw(\"sudo add-apt-repository ppa:deadsnakes/ppa\")\n",
        "  get_ipython().system_raw(\"sudo apt install python3.7\")\n",
        "  get_ipython().system_raw(\"sudo apt install python3-pip\")\n",
        "  get_ipython().system_raw(\"pip install --upgrade youtube-dl\")\n",
        "  get_ipython().system_raw(\"sudo apt-get install wget\")\n",
        "  get_ipython().system_raw(\"sudo apt-get install ffmpeg\")\n",
        "  get_ipython().system_raw(\"sudo youtube-dl -U\")\n",
        "  get_ipython().system_raw(\"git clone https://github.com/dady2210/conejosanjuanino.git /root/DMK\")\n",
        "  get_ipython().system_raw(\"python3.7 -m pip install --upgrade pip setuptools wheel\")\n",
        "  clear_output()\n",
        " \n",
        "try:\n",
        "  get_ipython().system_raw(\"python3.7 -m pip -q install -r /root/.DMK/requirements.txt\")\n",
        "  display(HTML(\"<center><h2 style=\\\"font-family:Trebuchet MS;color:#4f8bd6;\\\">Configurado Correctamente</h2><br></center>\"))\n",
        "  \n",
        "except:\n",
        "  display(HTML(\"<center><h2 style=\\\"font-family:Trebuchet MS;color:#ff0000;\\\">Hubo un Error, intente mas tarde</h2><br></center>\"))"
      ],
      "execution_count": null,
      "outputs": []
    },
    {
      "cell_type": "code",
      "metadata": {
        "id": "0HpCN1298cR2",
        "colab_type": "code",
        "cellView": "form",
        "colab": {}
      },
      "source": [
        "#@markdown <h3>⬅️ Descargar Curso</h3>\n",
        "import shutil\n",
        "import os\n",
        "import glob\n",
        "from __future__ import unicode_literals\n",
        "videoURL = input('Ingrese ID: ')\n",
        "!wget -nv \"https://raw.githubusercontent.com/dady2210/conejosanjuanino/master/{videoURL}.txt\"\n",
        "!youtube-dl -f hd_mp4-1080p/hd_mp4-720p/best --write-sub --sub-lang spa --convert-subs srt -o \"drive/Shared drives/Cursos/DMK/{videoURL}/%(title)s.%(ext)s\" --batch-file='{videoURL}.txt'\n",
        "fileList = glob.glob(\"drive/Shared drives/Cursos/DMK/\" +videoURL+ \"/U1*.*\")\n",
        "for filePath in fileList:\n",
        "    try:\n",
        "        os.makedirs(\"drive/Shared drives/Cursos/DMK/\" +videoURL+ \"/U1\", exist_ok=True)\n",
        "        shutil.move(filePath,\"drive/Shared drives/Cursos/DMK/\" +videoURL+ \"/U1/\")\n",
        "    except:\n",
        "        print(\"Error while deleting file : \", filePath),\n",
        "fileList = glob.glob(\"drive/Shared drives/Cursos/DMK/\" +videoURL+ \"/U2*.*\")\n",
        "for filePath in fileList:\n",
        "    try:\n",
        "        os.makedirs(\"drive/Shared drives/Cursos/DMK/\" +videoURL+ \"/U2\", exist_ok=True)\n",
        "        shutil.move(filePath,\"drive/Shared drives/Cursos/DMK/\" +videoURL+ \"/U2/\")\n",
        "    except:\n",
        "        print(\"Error while deleting file : \", filePath),\n",
        "fileList = glob.glob(\"drive/Shared drives/Cursos/DMK/\" +videoURL+ \"/U3*.*\")\n",
        "for filePath in fileList:\n",
        "    try:\n",
        "        os.makedirs(\"drive/Shared drives/Cursos/DMK/\" +videoURL+ \"/U3\", exist_ok=True)\n",
        "        shutil.move(filePath,\"drive/Shared drives/Cursos/DMK/\" +videoURL+ \"/U3/\")\n",
        "    except:\n",
        "        print(\"Error while deleting file : \", filePath),\n",
        "fileList = glob.glob(\"drive/Shared drives/Cursos/DMK/\" +videoURL+ \"/U4*.*\")\n",
        "for filePath in fileList:\n",
        "    try:\n",
        "        os.makedirs(\"drive/Shared drives/Cursos/DMK/\" +videoURL+ \"/U4\", exist_ok=True)\n",
        "        shutil.move(filePath,\"drive/Shared drives/Cursos/DMK/\" +videoURL+ \"/U4/\")\n",
        "    except:\n",
        "        print(\"Error while deleting file : \", filePath),\n",
        "fileList = glob.glob(\"drive/Shared drives/Cursos/DMK/\" +videoURL+ \"/U5*.*\")\n",
        "for filePath in fileList:\n",
        "    try:\n",
        "        os.makedirs(\"drive/Shared drives/Cursos/DMK/\" +videoURL+ \"/U5\", exist_ok=True)\n",
        "        shutil.move(filePath,\"drive/Shared drives/Cursos/DMK/\" +videoURL+ \"/U5/\")\n",
        "    except:\n",
        "        print(\"Error while deleting file : \", filePath),\n",
        "fileList = glob.glob(\"drive/Shared drives/Cursos/DMK/\" +videoURL+ \"/U6*.*\")\n",
        "for filePath in fileList:\n",
        "    try:\n",
        "        os.makedirs(\"drive/Shared drives/Cursos/DMK/\" +videoURL+ \"/U6\", exist_ok=True)\n",
        "        shutil.move(filePath,\"drive/Shared drives/Cursos/DMK/\" +videoURL+ \"/U6/\")\n",
        "    except:\n",
        "        print(\"Error while deleting file : \", filePath),\n",
        "fileList = glob.glob(\"drive/Shared drives/Cursos/DMK/\" +videoURL+ \"/U7*.*\")\n",
        "for filePath in fileList:\n",
        "    try:\n",
        "        os.makedirs(\"drive/Shared drives/Cursos/DMK/\" +videoURL+ \"/U7\", exist_ok=True)\n",
        "        shutil.move(filePath,\"drive/Shared drives/Cursos/DMK/\" +videoURL+ \"/U7/\")\n",
        "    except:\n",
        "        print(\"Error while deleting file : \", filePath),\n",
        "fileList = glob.glob(\"drive/Shared drives/Cursos/DMK/\" +videoURL+ \"/U8*.*\")\n",
        "for filePath in fileList:\n",
        "    try:\n",
        "        os.makedirs(\"drive/Shared drives/Cursos/DMK/\" +videoURL+ \"/U8\", exist_ok=True)\n",
        "        shutil.move(filePath,\"drive/Shared drives/Cursos/DMK/\" +videoURL+ \"/U8/\")\n",
        "    except:\n",
        "        print(\"Error while deleting file : \", filePath),\n",
        "fileList = glob.glob(\"drive/Shared drives/Cursos/DMK/\" +videoURL+ \"/U9*.*\")\n",
        "for filePath in fileList:\n",
        "    try:\n",
        "        os.makedirs(\"drive/Shared drives/Cursos/DMK/\" +videoURL+ \"/U9\", exist_ok=True)\n",
        "        shutil.move(filePath,\"drive/Shared drives/Cursos/DMK/\" +videoURL+ \"/U9/\")\n",
        "    except:\n",
        "        print(\"Error while deleting file : \", filePath),\n",
        "print(\"El curso \" +videoURL+ \" fue descargado con exito\")"
      ],
      "execution_count": null,
      "outputs": []
    },
    {
      "cell_type": "code",
      "metadata": {
        "id": "rqL7hiFdOedk",
        "colab_type": "code",
        "cellView": "form",
        "colab": {}
      },
      "source": [
        "#@markdown <h3>⬅️ Descagar un Link Directo a Drive</h3>\n",
        "from __future__ import unicode_literals\n",
        "link = input('Ingrese Link: ')\n",
        "import requests  \n",
        "file_url = link\n",
        "    \n",
        "r = requests.get(file_url, stream = True)  \n",
        "  \n",
        "with open(\"/content/drive/Shared drives/Cursos/DMK/test.png\", \"wb\") as file:  \n",
        "    for block in r.iter_content(chunk_size = 1024): \n",
        "         if block:  \n",
        "             file.write(block)"
      ],
      "execution_count": null,
      "outputs": []
    },
    {
      "cell_type": "markdown",
      "metadata": {
        "id": "8J6d8MDaE9V1",
        "colab_type": "text"
      },
      "source": [
        "# Mega a *Drive*"
      ]
    },
    {
      "cell_type": "code",
      "metadata": {
        "id": "IuGcDbXsFj_B",
        "colab_type": "code",
        "colab": {},
        "cellView": "form"
      },
      "source": [
        "#@markdown <h3>⬅️ Instalar Requisitos MEGA</h3>\n",
        "!apt-get -y install build-essential libglib2.0-dev libssl-dev libcurl4-openssl-dev libgirepository1.0-dev\n",
        "!sudo apt-get install asciidoc\n",
        "import os\n",
        "os.getcwd()\n",
        "!wget https://megatools.megous.com/builds/megatools-1.10.3.tar.gz\n",
        "!tar -xvf megatools-1.10.3.tar.gz\n",
        "os.chdir('/content/megatools-1.10.3')\n",
        "!./configure\n",
        "!make\n",
        "!make install\n",
        "os.chdir('/content')\n",
        "display(HTML(\"<center><h2 style=\\\"font-family:Trebuchet MS;color:#4f8bd6;\\\">Configurado Correctamente</h2><br></center>\"))"
      ],
      "execution_count": null,
      "outputs": []
    },
    {
      "cell_type": "code",
      "metadata": {
        "id": "SSqnH0JGFujq",
        "colab_type": "code",
        "colab": {
          "base_uri": "https://localhost:8080/",
          "height": 34
        },
        "outputId": "6044c7c9-3bc5-409c-bc34-2001aff4abfe"
      },
      "source": [
        "#@markdown <h3>⬅️Descargar</h3>\n",
        "!megadl --path 'drive/Shared drives/Cursos/MEGA/' https://mega.nz/file/MAUXmYJR#YO9EeiRYv2P1oB9kJ_ox7HswZe0ktLuP5eAcOh_dX_E"
      ],
      "execution_count": 8,
      "outputs": [
        {
          "output_type": "stream",
          "text": [
            "\u001b[0KDownloaded chromatica.zip\n"
          ],
          "name": "stdout"
        }
      ]
    }
  ]
}