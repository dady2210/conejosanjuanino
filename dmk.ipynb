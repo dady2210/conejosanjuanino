{
  "nbformat": 4,
  "nbformat_minor": 0,
  "metadata": {
    "colab": {
      "name": "dmk.ipynb",
      "provenance": [],
      "collapsed_sections": [],
      "toc_visible": true,
      "include_colab_link": true
    },
    "kernelspec": {
      "name": "python3",
      "display_name": "Python 3"
    },
    "accelerator": "GPU",
    "widgets": {
      "application/vnd.jupyter.widget-state+json": {
        "1a75ffb7816b4d10b67ab8f949d70777": {
          "model_module": "@jupyter-widgets/controls",
          "model_name": "ButtonModel",
          "state": {
            "_view_name": "ButtonView",
            "style": "IPY_MODEL_f85b944ca94645cdbb1e379b09614528",
            "_dom_classes": [],
            "description": "Instalando",
            "_model_name": "ButtonModel",
            "button_style": "warning",
            "_view_module": "@jupyter-widgets/controls",
            "_model_module_version": "1.5.0",
            "tooltip": "Installing",
            "_view_count": null,
            "disabled": true,
            "_view_module_version": "1.5.0",
            "layout": "IPY_MODEL_51ec3e8d59a54730866ba4f6162d2575",
            "_model_module": "@jupyter-widgets/controls",
            "icon": "check"
          }
        },
        "f85b944ca94645cdbb1e379b09614528": {
          "model_module": "@jupyter-widgets/controls",
          "model_name": "ButtonStyleModel",
          "state": {
            "_view_name": "StyleView",
            "_model_name": "ButtonStyleModel",
            "_view_module": "@jupyter-widgets/base",
            "_model_module_version": "1.5.0",
            "_view_count": null,
            "button_color": null,
            "font_weight": "",
            "_view_module_version": "1.2.0",
            "_model_module": "@jupyter-widgets/controls"
          }
        },
        "51ec3e8d59a54730866ba4f6162d2575": {
          "model_module": "@jupyter-widgets/base",
          "model_name": "LayoutModel",
          "state": {
            "_view_name": "LayoutView",
            "grid_template_rows": null,
            "right": null,
            "justify_content": null,
            "_view_module": "@jupyter-widgets/base",
            "overflow": null,
            "_model_module_version": "1.2.0",
            "_view_count": null,
            "flex_flow": null,
            "width": null,
            "min_width": null,
            "border": null,
            "align_items": null,
            "bottom": null,
            "_model_module": "@jupyter-widgets/base",
            "top": null,
            "grid_column": null,
            "overflow_y": null,
            "overflow_x": null,
            "grid_auto_flow": null,
            "grid_area": null,
            "grid_template_columns": null,
            "flex": null,
            "_model_name": "LayoutModel",
            "justify_items": null,
            "grid_row": null,
            "max_height": null,
            "align_content": null,
            "visibility": null,
            "align_self": null,
            "height": null,
            "min_height": null,
            "padding": null,
            "grid_auto_rows": null,
            "grid_gap": null,
            "max_width": null,
            "order": null,
            "_view_module_version": "1.2.0",
            "grid_template_areas": null,
            "object_position": null,
            "object_fit": null,
            "grid_auto_columns": null,
            "margin": null,
            "display": null,
            "left": null
          }
        }
      }
    }
  },
  "cells": [
    {
      "cell_type": "markdown",
      "metadata": {
        "id": "view-in-github",
        "colab_type": "text"
      },
      "source": [
        "<a href=\"https://colab.research.google.com/github/dady2210/conejosanjuanino/blob/master/dmk.ipynb\" target=\"_parent\"><img src=\"https://colab.research.google.com/assets/colab-badge.svg\" alt=\"Open In Colab\"/></a>"
      ]
    },
    {
      "cell_type": "code",
      "metadata": {
        "id": "tTVkURopsAxH",
        "colab_type": "code",
        "cellView": "both",
        "colab": {
          "base_uri": "https://localhost:8080/",
          "height": 335
        },
        "outputId": "0fd38b69-81bc-4f2e-efb7-2a7e5aefc33b"
      },
      "source": [
        "#@markdown <h3>⬅ Run This Cell to  Mount Gdrive\n",
        "from google.colab import drive\n",
        "drive.mount('/content/drive')"
      ],
      "execution_count": 16,
      "outputs": [
        {
          "output_type": "error",
          "ename": "ValueError",
          "evalue": "ignored",
          "traceback": [
            "\u001b[0;31m---------------------------------------------------------------------------\u001b[0m",
            "\u001b[0;31mValueError\u001b[0m                                Traceback (most recent call last)",
            "\u001b[0;32m<ipython-input-16-697923b34052>\u001b[0m in \u001b[0;36m<module>\u001b[0;34m()\u001b[0m\n\u001b[1;32m      1\u001b[0m \u001b[0;31m#@markdown <h3>⬅ Run This Cell to  Mount Gdrive\u001b[0m\u001b[0;34m\u001b[0m\u001b[0;34m\u001b[0m\u001b[0;34m\u001b[0m\u001b[0m\n\u001b[1;32m      2\u001b[0m \u001b[0;32mfrom\u001b[0m \u001b[0mgoogle\u001b[0m\u001b[0;34m.\u001b[0m\u001b[0mcolab\u001b[0m \u001b[0;32mimport\u001b[0m \u001b[0mdrive\u001b[0m\u001b[0;34m\u001b[0m\u001b[0;34m\u001b[0m\u001b[0m\n\u001b[0;32m----> 3\u001b[0;31m \u001b[0mdrive\u001b[0m\u001b[0;34m.\u001b[0m\u001b[0mmount\u001b[0m\u001b[0;34m(\u001b[0m\u001b[0;34m'/content/drive'\u001b[0m\u001b[0;34m)\u001b[0m\u001b[0;34m\u001b[0m\u001b[0;34m\u001b[0m\u001b[0m\n\u001b[0m",
            "\u001b[0;32m/usr/local/lib/python3.6/dist-packages/google/colab/drive.py\u001b[0m in \u001b[0;36mmount\u001b[0;34m(mountpoint, force_remount, timeout_ms, use_metadata_server)\u001b[0m\n\u001b[1;32m    150\u001b[0m       \u001b[0;32mraise\u001b[0m \u001b[0mValueError\u001b[0m\u001b[0;34m(\u001b[0m\u001b[0;34m'Mountpoint must not be a symlink'\u001b[0m\u001b[0;34m)\u001b[0m\u001b[0;34m\u001b[0m\u001b[0;34m\u001b[0m\u001b[0m\n\u001b[1;32m    151\u001b[0m     \u001b[0;32mif\u001b[0m \u001b[0m_os\u001b[0m\u001b[0;34m.\u001b[0m\u001b[0mpath\u001b[0m\u001b[0;34m.\u001b[0m\u001b[0misdir\u001b[0m\u001b[0;34m(\u001b[0m\u001b[0mmountpoint\u001b[0m\u001b[0;34m)\u001b[0m \u001b[0;32mand\u001b[0m \u001b[0m_os\u001b[0m\u001b[0;34m.\u001b[0m\u001b[0mlistdir\u001b[0m\u001b[0;34m(\u001b[0m\u001b[0mmountpoint\u001b[0m\u001b[0;34m)\u001b[0m\u001b[0;34m:\u001b[0m\u001b[0;34m\u001b[0m\u001b[0;34m\u001b[0m\u001b[0m\n\u001b[0;32m--> 152\u001b[0;31m       \u001b[0;32mraise\u001b[0m \u001b[0mValueError\u001b[0m\u001b[0;34m(\u001b[0m\u001b[0;34m'Mountpoint must not already contain files'\u001b[0m\u001b[0;34m)\u001b[0m\u001b[0;34m\u001b[0m\u001b[0;34m\u001b[0m\u001b[0m\n\u001b[0m\u001b[1;32m    153\u001b[0m     \u001b[0;32mif\u001b[0m \u001b[0;32mnot\u001b[0m \u001b[0m_os\u001b[0m\u001b[0;34m.\u001b[0m\u001b[0mpath\u001b[0m\u001b[0;34m.\u001b[0m\u001b[0misdir\u001b[0m\u001b[0;34m(\u001b[0m\u001b[0mmountpoint\u001b[0m\u001b[0;34m)\u001b[0m \u001b[0;32mand\u001b[0m \u001b[0m_os\u001b[0m\u001b[0;34m.\u001b[0m\u001b[0mpath\u001b[0m\u001b[0;34m.\u001b[0m\u001b[0mexists\u001b[0m\u001b[0;34m(\u001b[0m\u001b[0mmountpoint\u001b[0m\u001b[0;34m)\u001b[0m\u001b[0;34m:\u001b[0m\u001b[0;34m\u001b[0m\u001b[0;34m\u001b[0m\u001b[0m\n\u001b[1;32m    154\u001b[0m       \u001b[0;32mraise\u001b[0m \u001b[0mValueError\u001b[0m\u001b[0;34m(\u001b[0m\u001b[0;34m'Mountpoint must either be a directory or not exist'\u001b[0m\u001b[0;34m)\u001b[0m\u001b[0;34m\u001b[0m\u001b[0;34m\u001b[0m\u001b[0m\n",
            "\u001b[0;31mValueError\u001b[0m: Mountpoint must not already contain files"
          ]
        }
      ]
    },
    {
      "cell_type": "markdown",
      "metadata": {
        "id": "oy6NiZ-mhVFX",
        "colab_type": "text"
      },
      "source": [
        "# <img src='https://i.imgur.com/ZLv9ul7.jpg' height=\"60\" alt=\"RcloneLab\"/>"
      ]
    },
    {
      "cell_type": "code",
      "metadata": {
        "id": "xunEYHutBEv_",
        "colab_type": "code",
        "cellView": "both",
        "colab": {
          "base_uri": "https://localhost:8080/",
          "height": 81,
          "referenced_widgets": [
            "1a75ffb7816b4d10b67ab8f949d70777",
            "f85b944ca94645cdbb1e379b09614528",
            "51ec3e8d59a54730866ba4f6162d2575"
          ]
        },
        "outputId": "70ec291a-f8ce-4cfa-8575-1ff178835493"
      },
      "source": [
        "#@markdown <h3>⬅️ Run This Cell to Install DMK-DL Requirements</h3>\n",
        "import random, string, urllib.request, json, getpass, os, IPython, uuid\n",
        "import ipywidgets as widgets\n",
        "\n",
        "from IPython.display import HTML, clear_output\n",
        "\n",
        "loadingBtn = widgets.Button(description = \"Instalando\",\n",
        "                          disabled = True,\n",
        "                          button_style = 'warning', # 'success', 'info', 'warning', 'danger' or '' \n",
        "                          tooltip = \"Installing\",\n",
        "                          icon = 'check')\n",
        "display(loadingBtn)\n",
        "\n",
        "if not os.path.exists(\"/opt/python3.7\"):\n",
        "  get_ipython().system_raw(\"rm -rf /content/sample_data/ && sudo apt update && sudo apt install software-properties-common\")\n",
        "  get_ipython().system_raw(\"sudo add-apt-repository ppa:deadsnakes/ppa\")\n",
        "  get_ipython().system_raw(\"sudo apt install python3.7\")\n",
        "  get_ipython().system_raw(\"sudo apt install python3-pip\")\n",
        "  get_ipython().system_raw(\"sudo apt-get install youtube-dl\")\n",
        "  get_ipython().system_raw(\"sudo apt-get install wget\")\n",
        "  get_ipython().system_raw(\"sudo apt-get install ffmpeg\")\n",
        "  get_ipython().system_raw(\"git clone https://github.com/dady2210/conejosanjuanino.git /root/DMK\")\n",
        "  get_ipython().system_raw(\"python3.7 -m pip install --upgrade pip setuptools wheel\")\n",
        "  clear_output()\n",
        "\n",
        "try:\n",
        "  get_ipython().system_raw(\"python3.7 -m pip -q install -r /root/.DMK/requirements.txt\")\n",
        "  display(HTML(\"<center><h2 style=\\\"font-family:Trebuchet MS;color:#4f8bd6;\\\">Successfully Configured!</h2><br></center>\"))\n",
        "  \n",
        "except:\n",
        "  display(HTML(\"<center><h2 style=\\\"font-family:Trebuchet MS;color:#ff0000;\\\">Error Occured, Rerun the Cell!!</h2><br></center>\"))"
      ],
      "execution_count": null,
      "outputs": [
        {
          "output_type": "display_data",
          "data": {
            "text/html": [
              "<center><h2 style=\"font-family:Trebuchet MS;color:#4f8bd6;\">Successfully Configured!</h2><br></center>"
            ],
            "text/plain": [
              "<IPython.core.display.HTML object>"
            ]
          },
          "metadata": {
            "tags": []
          }
        }
      ]
    },
    {
      "cell_type": "code",
      "metadata": {
        "id": "0HpCN1298cR2",
        "colab_type": "code",
        "cellView": "both",
        "colab": {
          "base_uri": "https://localhost:8080/",
          "height": 241
        },
        "outputId": "72e0729e-b484-47f1-b279-115e22335184"
      },
      "source": [
        "#@markdown <h3>⬅️ Descagar ID TXT</h3>\n",
        "from __future__ import unicode_literals\n",
        "videoURL = input('Ingrese ID: ')\n",
        "!wget \"https://raw.githubusercontent.com/dady2210/conejosanjuanino/master/{videoURL}.txt\"\n"
      ],
      "execution_count": 526,
      "outputs": [
        {
          "output_type": "stream",
          "text": [
            "Ingrese ID: 110\n",
            "--2020-09-09 10:47:57--  https://raw.githubusercontent.com/dady2210/conejosanjuanino/master/110.txt\n",
            "Resolving raw.githubusercontent.com (raw.githubusercontent.com)... 151.101.0.133, 151.101.64.133, 151.101.128.133, ...\n",
            "Connecting to raw.githubusercontent.com (raw.githubusercontent.com)|151.101.0.133|:443... connected.\n",
            "HTTP request sent, awaiting response... 200 OK\n",
            "Length: 670 [text/plain]\n",
            "Saving to: ‘110.txt’\n",
            "\n",
            "110.txt             100%[===================>]     670  --.-KB/s    in 0s      \n",
            "\n",
            "2020-09-09 10:47:58 (49.0 MB/s) - ‘110.txt’ saved [670/670]\n",
            "\n"
          ],
          "name": "stdout"
        }
      ]
    },
    {
      "cell_type": "code",
      "metadata": {
        "id": "5m-M1yV2XybY",
        "colab_type": "code",
        "colab": {}
      },
      "source": [
        "#@markdown <h3>⬅️ DESCARGAR</h3>\n",
        "!youtube-dl -f hd_mp4_video-0/best --write-sub --all-subs --convert-subs srt -o \"drive/Shared drives/Cursos/DMK/{videoURL}/%(title)s.%(ext)s\" --batch-file='{videoURL}.txt'"
      ],
      "execution_count": null,
      "outputs": []
    },
    {
      "cell_type": "code",
      "metadata": {
        "id": "poYjRvbOhrEq",
        "colab_type": "code",
        "colab": {
          "base_uri": "https://localhost:8080/",
          "height": 34
        },
        "outputId": "73e3a670-4932-4d74-84ee-f292afdae98e"
      },
      "source": [
        "import os \n",
        "os.makedirs('drive/Shared drives/Cursos/DMK/{videoURL}/U1', exist_ok=True)\n",
        "!mv -v drive/Shared drives/Cursos/DMK/{videoURL}/U1*mp4 drive/Shared drives/Cursos/DMK/{videoURL}/U1"
      ],
      "execution_count": 6,
      "outputs": [
        {
          "output_type": "stream",
          "text": [
            "mv: target 'drives/Cursos/DMK/{videoURL}/U1' is not a directory\n"
          ],
          "name": "stdout"
        }
      ]
    },
    {
      "cell_type": "code",
      "metadata": {
        "id": "W4DvOJaqsGaj",
        "colab_type": "code",
        "cellView": "both",
        "colab": {}
      },
      "source": [
        "#@markdown <h3>⬅️ Ordenar Cusos\n",
        "import os \n",
        "import shutil\n",
        "import os\n",
        "import glob\n",
        "\n",
        "os.makedirs('drive/Shared drives/Cursos/DMK/110/U2', exist_ok=True)\n",
        "os.makedirs('drive/Shared drives/Cursos/DMK/110/U3', exist_ok=True)\n",
        "os.makedirs('drive/Shared drives/Cursos/DMK/110/U4', exist_ok=True)\n",
        "os.makedirs('drive/Shared drives/Cursos/DMK/110/U5', exist_ok=True)\n",
        "os.makedirs('drive/Shared drives/Cursos/DMK/110/U6', exist_ok=True)\n",
        "os.makedirs('drive/Shared drives/Cursos/DMK/110/U7', exist_ok=True)\n",
        "fileList = glob.glob('drive/Shared drives/Cursos/DMK/110/U1*.mp4')\n",
        "for filePath in fileList:\n",
        "    try:\n",
        "        shutil.move(filePath,\"drive/Shared drives/Cursos/DMK/110/U1/\")\n",
        "    except:\n",
        "        print(\"Error while deleting file : \", filePath),\n",
        "fileList = glob.glob('drive/Shared drives/Cursos/DMK/110/U2*.mp4')\n",
        "for filePath in fileList:\n",
        "    try:\n",
        "        shutil.move(filePath,\"drive/Shared drives/Cursos/DMK/110/U2/\")\n",
        "    except:\n",
        "        print(\"Error while deleting file : \", filePath),\n",
        "fileList = glob.glob('drive/Shared drives/Cursos/DMK/110/U3*.mp4')\n",
        "for filePath in fileList:\n",
        "    try:\n",
        "        shutil.move(filePath,\"drive/Shared drives/Cursos/DMK/110/U3/\"),\n",
        "    except:\n",
        "        print(\"Error while deleting file : \", filePath),\n",
        "fileList = glob.glob('drive/Shared drives/Cursos/DMK/110/U4*.mp4')\n",
        "for filePath in fileList:\n",
        "    try:\n",
        "        shutil.move(filePath,\"drive/Shared drives/Cursos/DMK/110/U4/\")\n",
        "    except:\n",
        "        print(\"Error while deleting file : \", filePath),\n",
        "fileList = glob.glob('drive/Shared drives/Cursos/DMK/110/U5*.mp4')\n",
        "for filePath in fileList:\n",
        "    try:\n",
        "        shutil.move(filePath,\"drive/Shared drives/Cursos/DMK/110/U5/\"),\n",
        "    except:\n",
        "        print(\"Error while deleting file : \", filePath),\n",
        "fileList = glob.glob('drive/Shared drives/Cursos/DMK/110/U6*.mp4')\n",
        "for filePath in fileList:\n",
        "    try:\n",
        "        shutil.move(filePath,\"drive/Shared drives/Cursos/DMK/110/U6/\")\n",
        "    except:\n",
        "        print(\"Error while deleting file : \", filePath),        "
      ],
      "execution_count": 7,
      "outputs": []
    },
    {
      "cell_type": "code",
      "metadata": {
        "id": "N-mghUMUJoRR",
        "colab_type": "code",
        "colab": {
          "base_uri": "https://localhost:8080/",
          "height": 34
        },
        "outputId": "71326f67-1326-4721-c600-a9954a28e9f3"
      },
      "source": [
        "os.listdir('drive/Shared drives/Cursos/DMK') "
      ],
      "execution_count": 12,
      "outputs": [
        {
          "output_type": "execute_result",
          "data": {
            "text/plain": [
              "['{videoURL}', '110']"
            ]
          },
          "metadata": {
            "tags": []
          },
          "execution_count": 12
        }
      ]
    }
  ]
}